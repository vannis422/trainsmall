{
  "nbformat": 4,
  "nbformat_minor": 0,
  "metadata": {
    "colab": {
      "provenance": [],
      "gpuType": "T4",
      "authorship_tag": "ABX9TyOWXtq6cZMCMScK3vxhBclz",
      "include_colab_link": true
    },
    "kernelspec": {
      "name": "python3",
      "display_name": "Python 3"
    },
    "language_info": {
      "name": "python"
    },
    "accelerator": "GPU"
  },
  "cells": [
    {
      "cell_type": "markdown",
      "metadata": {
        "id": "view-in-github",
        "colab_type": "text"
      },
      "source": [
        "<a href=\"https://colab.research.google.com/github/vannis422/trainsmall/blob/main/LLMmodule.ipynb\" target=\"_parent\"><img src=\"https://colab.research.google.com/assets/colab-badge.svg\" alt=\"Open In Colab\"/></a>"
      ]
    },
    {
      "cell_type": "code",
      "execution_count": 2,
      "metadata": {
        "id": "d_-TErvra4-R"
      },
      "outputs": [],
      "source": [
        "from huggingface_hub import login, snapshot_download\n",
        "from transformers import AutoModelForCausalLM, AutoTokenizer, BitsAndBytesConfig\n",
        "import torch\n",
        "\n",
        "# 外掛：登入\n",
        "def HuggingFaceAuth(token: str):\n",
        "    login(token)\n",
        "\n",
        "# 外掛：下載模型\n",
        "def ModelDownloader(repo_id: str, local_dir: str, revision=\"main\", ignore_patterns=None):\n",
        "    return snapshot_download(\n",
        "        repo_id,\n",
        "        revision=revision,\n",
        "        ignore_patterns=ignore_patterns or [],\n",
        "        local_dir=local_dir\n",
        "    )\n",
        "\n",
        "# 外掛：建立量化設定\n",
        "def QuantConfigBuilder(dtype=torch.bfloat16, quant_type=\"nf4\", use_double_quant=True):\n",
        "    return BitsAndBytesConfig(\n",
        "        load_in_4bit=True,\n",
        "        bnb_4bit_quant_type=quant_type,\n",
        "        bnb_4bit_use_double_quant=use_double_quant,\n",
        "        bnb_4bit_compute_dtype=dtype\n",
        "    )\n",
        "\n",
        "# 外掛：載入量化模型\n",
        "def QuantizedModelLoader(model_path: str, quant_config, device=\"auto\", dtype=torch.bfloat16):\n",
        "    return AutoModelForCausalLM.from_pretrained(\n",
        "        model_path,\n",
        "        quantization_config=quant_config,\n",
        "        device_map=device,\n",
        "        torch_dtype=dtype\n",
        "    )\n",
        "\n",
        "# 外掛：儲存模型\n",
        "def ModelSaver(model, tokenizer, save_path: str):\n",
        "    model.save_pretrained(save_path)\n",
        "    tokenizer.save_pretrained(save_path)\n"
      ]
    }
  ]
}